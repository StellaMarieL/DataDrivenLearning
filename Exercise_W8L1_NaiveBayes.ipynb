{
 "cells": [
  {
   "cell_type": "code",
   "execution_count": 7,
   "metadata": {},
   "outputs": [],
   "source": [
    "#Import the modiles you need to write the code\n",
    "import pandas as pd\n",
    "from sklearn.feature_extraction.text import CountVectorizer\n",
    "from sklearn.naive_bayes import MultinomialNB\n",
    "import seaborn as sns\n",
    "import matplotlib.pyplot as plt\n",
    "import math"
   ]
  },
  {
   "cell_type": "code",
   "execution_count": 8,
   "metadata": {},
   "outputs": [
    {
     "data": {
      "text/html": [
       "<div>\n",
       "<style scoped>\n",
       "    .dataframe tbody tr th:only-of-type {\n",
       "        vertical-align: middle;\n",
       "    }\n",
       "\n",
       "    .dataframe tbody tr th {\n",
       "        vertical-align: top;\n",
       "    }\n",
       "\n",
       "    .dataframe thead th {\n",
       "        text-align: right;\n",
       "    }\n",
       "</style>\n",
       "<table border=\"1\" class=\"dataframe\">\n",
       "  <thead>\n",
       "    <tr style=\"text-align: right;\">\n",
       "      <th></th>\n",
       "      <th>raw_character_text</th>\n",
       "      <th>spoken_words</th>\n",
       "    </tr>\n",
       "  </thead>\n",
       "  <tbody>\n",
       "    <tr>\n",
       "      <th>0</th>\n",
       "      <td>Miss Hoover</td>\n",
       "      <td>No, actually, it was a little of both. Sometim...</td>\n",
       "    </tr>\n",
       "    <tr>\n",
       "      <th>1</th>\n",
       "      <td>Lisa Simpson</td>\n",
       "      <td>Where's Mr. Bergstrom?</td>\n",
       "    </tr>\n",
       "    <tr>\n",
       "      <th>2</th>\n",
       "      <td>Miss Hoover</td>\n",
       "      <td>I don't know. Although I'd sure like to talk t...</td>\n",
       "    </tr>\n",
       "    <tr>\n",
       "      <th>3</th>\n",
       "      <td>Lisa Simpson</td>\n",
       "      <td>That life is worth living.</td>\n",
       "    </tr>\n",
       "    <tr>\n",
       "      <th>4</th>\n",
       "      <td>Edna Krabappel-Flanders</td>\n",
       "      <td>The polls will be open from now until the end ...</td>\n",
       "    </tr>\n",
       "  </tbody>\n",
       "</table>\n",
       "</div>"
      ],
      "text/plain": [
       "        raw_character_text                                       spoken_words\n",
       "0              Miss Hoover  No, actually, it was a little of both. Sometim...\n",
       "1             Lisa Simpson                             Where's Mr. Bergstrom?\n",
       "2              Miss Hoover  I don't know. Although I'd sure like to talk t...\n",
       "3             Lisa Simpson                         That life is worth living.\n",
       "4  Edna Krabappel-Flanders  The polls will be open from now until the end ..."
      ]
     },
     "execution_count": 8,
     "metadata": {},
     "output_type": "execute_result"
    }
   ],
   "source": [
    "dialogue = pd.read_csv('simpsons_dataset.csv')\n",
    "dialogue.head()"
   ]
  },
  {
   "cell_type": "code",
   "execution_count": 10,
   "metadata": {},
   "outputs": [
    {
     "data": {
      "text/plain": [
       "Homer Simpson              29782\n",
       "Marge Simpson              14141\n",
       "Bart Simpson               13759\n",
       "Lisa Simpson               11489\n",
       "C. Montgomery Burns         3162\n",
       "Moe Szyslak                 2862\n",
       "Seymour Skinner             2438\n",
       "Ned Flanders                2144\n",
       "Grampa Simpson              1880\n",
       "Milhouse Van Houten         1862\n",
       "Chief Wiggum                1830\n",
       "Krusty the Clown            1768\n",
       "Nelson Muntz                1172\n",
       "Lenny Leonard               1166\n",
       "Apu Nahasapeemapetilon      1006\n",
       "Waylon Smithers              996\n",
       "Kent Brockman                891\n",
       "Carl Carlson                 883\n",
       "Edna Krabappel-Flanders      739\n",
       "Dr. Julius Hibbert           691\n",
       "Selma Bouvier                611\n",
       "Barney Gumble                611\n",
       "Sideshow Bob                 576\n",
       "Rev. Timothy Lovejoy         558\n",
       "Crowd                        540\n",
       "Groundskeeper Willie         534\n",
       "Gary Chalmers                523\n",
       "Ralph Wiggum                 507\n",
       "Mayor Joe Quimby             503\n",
       "Patty Bouvier                479\n",
       "                           ...  \n",
       "Strippers                      1\n",
       "Nelson's Parrot                1\n",
       "Car #3                         1\n",
       "MAN WITH WINGS                 1\n",
       "Flashback Marge                1\n",
       "2nd Gambler                    1\n",
       "3RD VOICE                      1\n",
       "Pious Riot                     1\n",
       "Elegant Man                    1\n",
       "Bran Producer #1               1\n",
       "Tourist Kid                    1\n",
       "Cartoon Eagle                  1\n",
       "HANK HILL                      1\n",
       "Homer's Feet                   1\n",
       "GERMAN SOLDIER                 1\n",
       "SICK JAPANESE WORKER           1\n",
       "President Of Harvard           1\n",
       "Jerry Lewis Bart               1\n",
       "INTERCOM                       1\n",
       "Other Prisoners                1\n",
       "Nikki's Dad                    1\n",
       "Muslim Man                     1\n",
       "Baby Willie                    1\n",
       "Rabbit                         1\n",
       "Shrill Voice                   1\n",
       "Comics                         1\n",
       "Female Dmv Suit                1\n",
       "Mr. Montone                    1\n",
       "Nutty Comedian                 1\n",
       "Admiral #1                     1\n",
       "Name: raw_character_text, Length: 6758, dtype: int64"
      ]
     },
     "execution_count": 10,
     "metadata": {},
     "output_type": "execute_result"
    }
   ],
   "source": [
    "#Make a list where we can see how many lines the different character in the series have, and that are collected in this set.\n",
    "dialogue['raw_character_text'].value_counts()"
   ]
  },
  {
   "cell_type": "code",
   "execution_count": 11,
   "metadata": {},
   "outputs": [
    {
     "data": {
      "text/html": [
       "<div>\n",
       "<style scoped>\n",
       "    .dataframe tbody tr th:only-of-type {\n",
       "        vertical-align: middle;\n",
       "    }\n",
       "\n",
       "    .dataframe tbody tr th {\n",
       "        vertical-align: top;\n",
       "    }\n",
       "\n",
       "    .dataframe thead th {\n",
       "        text-align: right;\n",
       "    }\n",
       "</style>\n",
       "<table border=\"1\" class=\"dataframe\">\n",
       "  <thead>\n",
       "    <tr style=\"text-align: right;\">\n",
       "      <th></th>\n",
       "      <th>raw_character_text</th>\n",
       "      <th>spoken_words</th>\n",
       "    </tr>\n",
       "  </thead>\n",
       "  <tbody>\n",
       "    <tr>\n",
       "      <th>1</th>\n",
       "      <td>Lisa Simpson</td>\n",
       "      <td>Where's Mr. Bergstrom?</td>\n",
       "    </tr>\n",
       "    <tr>\n",
       "      <th>3</th>\n",
       "      <td>Lisa Simpson</td>\n",
       "      <td>That life is worth living.</td>\n",
       "    </tr>\n",
       "    <tr>\n",
       "      <th>7</th>\n",
       "      <td>Bart Simpson</td>\n",
       "      <td>Victory party under the slide!</td>\n",
       "    </tr>\n",
       "    <tr>\n",
       "      <th>9</th>\n",
       "      <td>Lisa Simpson</td>\n",
       "      <td>Mr. Bergstrom! Mr. Bergstrom!</td>\n",
       "    </tr>\n",
       "    <tr>\n",
       "      <th>11</th>\n",
       "      <td>Lisa Simpson</td>\n",
       "      <td>Do you know where I could find him?</td>\n",
       "    </tr>\n",
       "  </tbody>\n",
       "</table>\n",
       "</div>"
      ],
      "text/plain": [
       "   raw_character_text                         spoken_words\n",
       "1        Lisa Simpson               Where's Mr. Bergstrom?\n",
       "3        Lisa Simpson           That life is worth living.\n",
       "7        Bart Simpson       Victory party under the slide!\n",
       "9        Lisa Simpson        Mr. Bergstrom! Mr. Bergstrom!\n",
       "11       Lisa Simpson  Do you know where I could find him?"
      ]
     },
     "execution_count": 11,
     "metadata": {},
     "output_type": "execute_result"
    }
   ],
   "source": [
    "character = ['Lisa Simpson', 'Bart Simpson']\n",
    "df_lines = dialogue.loc[dialogue['raw_character_text'].isin(character)]\n",
    "df_lines.head()"
   ]
  },
  {
   "cell_type": "code",
   "execution_count": 12,
   "metadata": {},
   "outputs": [
    {
     "name": "stdout",
     "output_type": "stream",
     "text": [
      "There are 14258 words in the vocabulary. A selection: ['anguished', 'angus', 'anima', 'animal', 'animals', 'animated', 'animation', 'animators', 'anka', 'ankle', 'ann', 'annapolis', 'anne', 'annie', 'anniversary', 'annnnd', 'announce', 'announcement', 'announcements', 'announcer']\n"
     ]
    }
   ],
   "source": [
    "lines = df_lines['spoken_words'].values.astype('U') #Taking the text from the df. We need to convert it to Unicode\n",
    "\n",
    "vect = CountVectorizer(stop_words='english') #Create the CV object, with English stop words (e.g.the, is, in, on, that etc.)\n",
    "vect = vect.fit(lines) #We fit the model with the words from the review text (creates the count of all the words)\n",
    "feature_names = vect.get_feature_names() #Get the words from the vocabulary\n",
    "print(f\"There are {len(feature_names)} words in the vocabulary. A selection: {feature_names[500:520]}\")"
   ]
  },
  {
   "cell_type": "code",
   "execution_count": 13,
   "metadata": {},
   "outputs": [],
   "source": [
    "matrix = vect.transform(lines) #The transform method from the CountVectorizer object creates the matrix\n",
    "\n",
    "#print(matrix[0:500,0:500]) #Prints part of the matrix, if the matrix is too small and sparse (all counts are zero, then the program will not show anything)\n"
   ]
  },
  {
   "cell_type": "code",
   "execution_count": 14,
   "metadata": {},
   "outputs": [],
   "source": [
    "docu_feat = pd.DataFrame(matrix.toarray()) #make a regular matrix, then put in Dataframe\n",
    "docu_feat.index = df_lines['spoken_words'] #Give the rows names (text of the review)\n",
    "docu_feat.columns = feature_names #Give the columns names (words from vocabulary)\n",
    "\n",
    "#docu_feat.iloc[0:4, 1000:1015] #Show a part of the matrix"
   ]
  },
  {
   "cell_type": "code",
   "execution_count": 23,
   "metadata": {},
   "outputs": [],
   "source": [
    "#HERE THE SECOND EXERCISE REALLY STARTS. The top is mainly the first exercise and the bottom is what you had to do for the second\n",
    "\n",
    "from sklearn.naive_bayes import MultinomialNB\n",
    "from sklearn.preprocessing import normalize\n",
    "\n",
    "X = docu_feat.loc[:]\n",
    "y = df_lines['raw_character_text']\n"
   ]
  },
  {
   "cell_type": "code",
   "execution_count": 24,
   "metadata": {},
   "outputs": [],
   "source": [
    "from sklearn.model_selection import train_test_split #the function to split the data\n",
    "X_train_k, X_test_k, y_train_k, y_test_k = train_test_split(X, y, test_size=0.3) #split the data and store it"
   ]
  },
  {
   "cell_type": "code",
   "execution_count": 25,
   "metadata": {},
   "outputs": [
    {
     "data": {
      "text/plain": [
       "MultinomialNB(alpha=1.0, class_prior=None, fit_prior=True)"
      ]
     },
     "execution_count": 25,
     "metadata": {},
     "output_type": "execute_result"
    }
   ],
   "source": [
    "clf = MultinomialNB()\n",
    "clf.fit(X_train_k, y_train_k)"
   ]
  },
  {
   "cell_type": "code",
   "execution_count": 26,
   "metadata": {},
   "outputs": [
    {
     "data": {
      "text/plain": [
       "array(['Lisa Simpson', 'Bart Simpson', 'Lisa Simpson', ...,\n",
       "       'Bart Simpson', 'Bart Simpson', 'Bart Simpson'], dtype='<U12')"
      ]
     },
     "execution_count": 26,
     "metadata": {},
     "output_type": "execute_result"
    }
   ],
   "source": [
    "MultinomialNB(alpha=1.0, class_prior=None, fit_prior=True)\n",
    "\n",
    "clf.predict(X_test_k)"
   ]
  },
  {
   "cell_type": "code",
   "execution_count": 27,
   "metadata": {},
   "outputs": [
    {
     "name": "stdout",
     "output_type": "stream",
     "text": [
      "The accuracy is: 0.6462046204620462\n"
     ]
    }
   ],
   "source": [
    "accuracy = clf.score(X_test_k, y_test_k)\n",
    "\n",
    "print(f'The accuracy is: {accuracy}' )"
   ]
  },
  {
   "cell_type": "code",
   "execution_count": null,
   "metadata": {},
   "outputs": [],
   "source": []
  }
 ],
 "metadata": {
  "kernelspec": {
   "display_name": "Python 3",
   "language": "python",
   "name": "python3"
  },
  "language_info": {
   "codemirror_mode": {
    "name": "ipython",
    "version": 3
   },
   "file_extension": ".py",
   "mimetype": "text/x-python",
   "name": "python",
   "nbconvert_exporter": "python",
   "pygments_lexer": "ipython3",
   "version": "3.6.5"
  }
 },
 "nbformat": 4,
 "nbformat_minor": 2
}
